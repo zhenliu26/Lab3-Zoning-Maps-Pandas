{
  "nbformat": 4,
  "nbformat_minor": 0,
  "metadata": {
    "colab": {
      "name": "Untitled3.ipynb",
      "provenance": []
    },
    "kernelspec": {
      "name": "python3",
      "display_name": "Python 3"
    },
    "language_info": {
      "name": "python"
    }
  },
  "cells": [
    {
      "cell_type": "code",
      "metadata": {
        "colab": {
          "base_uri": "https://localhost:8080/"
        },
        "id": "h7zf7rSp07G7",
        "outputId": "9ab041a0-0c43-4735-f86c-46b60b7c26a8"
      },
      "source": [
        "## install the dependencies\n",
        "!pip install geopandas\n",
        "!apt-get install -y libspatialindex-dev\n",
        "!pip install rtree"
      ],
      "execution_count": 1,
      "outputs": [
        {
          "output_type": "stream",
          "text": [
            "Collecting geopandas\n",
            "\u001b[?25l  Downloading https://files.pythonhosted.org/packages/d7/bf/e9cefb69d39155d122b6ddca53893b61535fa6ffdad70bf5ef708977f53f/geopandas-0.9.0-py2.py3-none-any.whl (994kB)\n",
            "\u001b[K     |████████████████████████████████| 1.0MB 3.6MB/s \n",
            "\u001b[?25hCollecting pyproj>=2.2.0\n",
            "\u001b[?25l  Downloading https://files.pythonhosted.org/packages/b1/72/d52e9ca81caef056062d71991b0e9b1d16af042245627c5d0e4916a36c4f/pyproj-3.0.1-cp37-cp37m-manylinux2010_x86_64.whl (6.5MB)\n",
            "\u001b[K     |████████████████████████████████| 6.5MB 1.0MB/s \n",
            "\u001b[?25hRequirement already satisfied: shapely>=1.6 in /usr/local/lib/python3.7/dist-packages (from geopandas) (1.7.1)\n",
            "Requirement already satisfied: pandas>=0.24.0 in /usr/local/lib/python3.7/dist-packages (from geopandas) (1.1.5)\n",
            "Collecting fiona>=1.8\n",
            "\u001b[?25l  Downloading https://files.pythonhosted.org/packages/ea/2a/404b22883298a3efe9c6ef8d67acbf2c38443fa366ee9cd4cd34e17626ea/Fiona-1.8.19-cp37-cp37m-manylinux1_x86_64.whl (15.3MB)\n",
            "\u001b[K     |████████████████████████████████| 15.3MB 218kB/s \n",
            "\u001b[?25hRequirement already satisfied: certifi in /usr/local/lib/python3.7/dist-packages (from pyproj>=2.2.0->geopandas) (2020.12.5)\n",
            "Requirement already satisfied: python-dateutil>=2.7.3 in /usr/local/lib/python3.7/dist-packages (from pandas>=0.24.0->geopandas) (2.8.1)\n",
            "Requirement already satisfied: numpy>=1.15.4 in /usr/local/lib/python3.7/dist-packages (from pandas>=0.24.0->geopandas) (1.19.5)\n",
            "Requirement already satisfied: pytz>=2017.2 in /usr/local/lib/python3.7/dist-packages (from pandas>=0.24.0->geopandas) (2018.9)\n",
            "Requirement already satisfied: attrs>=17 in /usr/local/lib/python3.7/dist-packages (from fiona>=1.8->geopandas) (20.3.0)\n",
            "Requirement already satisfied: click<8,>=4.0 in /usr/local/lib/python3.7/dist-packages (from fiona>=1.8->geopandas) (7.1.2)\n",
            "Collecting click-plugins>=1.0\n",
            "  Downloading https://files.pythonhosted.org/packages/e9/da/824b92d9942f4e472702488857914bdd50f73021efea15b4cad9aca8ecef/click_plugins-1.1.1-py2.py3-none-any.whl\n",
            "Requirement already satisfied: six>=1.7 in /usr/local/lib/python3.7/dist-packages (from fiona>=1.8->geopandas) (1.15.0)\n",
            "Collecting munch\n",
            "  Downloading https://files.pythonhosted.org/packages/cc/ab/85d8da5c9a45e072301beb37ad7f833cd344e04c817d97e0cc75681d248f/munch-2.5.0-py2.py3-none-any.whl\n",
            "Collecting cligj>=0.5\n",
            "  Downloading https://files.pythonhosted.org/packages/42/1e/947eadf10d6804bf276eb8a038bd5307996dceaaa41cfd21b7a15ec62f5d/cligj-0.7.1-py3-none-any.whl\n",
            "Installing collected packages: pyproj, click-plugins, munch, cligj, fiona, geopandas\n",
            "Successfully installed click-plugins-1.1.1 cligj-0.7.1 fiona-1.8.19 geopandas-0.9.0 munch-2.5.0 pyproj-3.0.1\n",
            "Reading package lists... Done\n",
            "Building dependency tree       \n",
            "Reading state information... Done\n",
            "The following package was automatically installed and is no longer required:\n",
            "  libnvidia-common-460\n",
            "Use 'apt autoremove' to remove it.\n",
            "The following additional packages will be installed:\n",
            "  libspatialindex-c4v5 libspatialindex4v5\n",
            "The following NEW packages will be installed:\n",
            "  libspatialindex-c4v5 libspatialindex-dev libspatialindex4v5\n",
            "0 upgraded, 3 newly installed, 0 to remove and 34 not upgraded.\n",
            "Need to get 555 kB of archives.\n",
            "After this operation, 3,308 kB of additional disk space will be used.\n",
            "Get:1 http://archive.ubuntu.com/ubuntu bionic/universe amd64 libspatialindex4v5 amd64 1.8.5-5 [219 kB]\n",
            "Get:2 http://archive.ubuntu.com/ubuntu bionic/universe amd64 libspatialindex-c4v5 amd64 1.8.5-5 [51.7 kB]\n",
            "Get:3 http://archive.ubuntu.com/ubuntu bionic/universe amd64 libspatialindex-dev amd64 1.8.5-5 [285 kB]\n",
            "Fetched 555 kB in 1s (706 kB/s)\n",
            "Selecting previously unselected package libspatialindex4v5:amd64.\n",
            "(Reading database ... 160690 files and directories currently installed.)\n",
            "Preparing to unpack .../libspatialindex4v5_1.8.5-5_amd64.deb ...\n",
            "Unpacking libspatialindex4v5:amd64 (1.8.5-5) ...\n",
            "Selecting previously unselected package libspatialindex-c4v5:amd64.\n",
            "Preparing to unpack .../libspatialindex-c4v5_1.8.5-5_amd64.deb ...\n",
            "Unpacking libspatialindex-c4v5:amd64 (1.8.5-5) ...\n",
            "Selecting previously unselected package libspatialindex-dev:amd64.\n",
            "Preparing to unpack .../libspatialindex-dev_1.8.5-5_amd64.deb ...\n",
            "Unpacking libspatialindex-dev:amd64 (1.8.5-5) ...\n",
            "Setting up libspatialindex4v5:amd64 (1.8.5-5) ...\n",
            "Setting up libspatialindex-c4v5:amd64 (1.8.5-5) ...\n",
            "Setting up libspatialindex-dev:amd64 (1.8.5-5) ...\n",
            "Processing triggers for libc-bin (2.27-3ubuntu1.2) ...\n",
            "/sbin/ldconfig.real: /usr/local/lib/python3.7/dist-packages/ideep4py/lib/libmkldnn.so.0 is not a symbolic link\n",
            "\n",
            "Collecting rtree\n",
            "\u001b[?25l  Downloading https://files.pythonhosted.org/packages/51/05/5a67111cee91d2165a2bcb855f442186e3d76ddef834596cc84d4875c401/Rtree-0.9.7-cp37-cp37m-manylinux2010_x86_64.whl (994kB)\n",
            "\u001b[K     |████████████████████████████████| 1.0MB 3.8MB/s \n",
            "\u001b[?25hInstalling collected packages: rtree\n",
            "Successfully installed rtree-0.9.7\n"
          ],
          "name": "stdout"
        }
      ]
    },
    {
      "cell_type": "code",
      "metadata": {
        "id": "e7KCFX16piIm"
      },
      "source": [
        "# Then import packages\n",
        "import pandas as pd  # provides interface for interacting with tabular data\n",
        "import geopandas as gpd  # combines the capabilities of pandas and shapely for geospatial operations\n",
        "from shapely.geometry import Point, Polygon, MultiPolygon  # for manipulating text data into geospatial shapes\n",
        "from shapely import wkt  # stands for \"well known text,\" allows for interchange across GIS programs\n",
        "import rtree  # supports geospatial join"
      ],
      "execution_count": 2,
      "outputs": []
    },
    {
      "cell_type": "code",
      "metadata": {
        "colab": {
          "base_uri": "https://localhost:8080/"
        },
        "id": "Lepv72Xe0Ltp",
        "outputId": "0a50545d-317b-4819-9a77-0b89aa5e41b1"
      },
      "source": [
        "from google.colab import drive\n",
        "drive.mount('/content/gdrive') # connects Colab to your Google Drive\n",
        "root_path = 'gdrive/MyDrive/gis/' # set root path to folder where you uploaded the data"
      ],
      "execution_count": 3,
      "outputs": [
        {
          "output_type": "stream",
          "text": [
            "Mounted at /content/gdrive\n"
          ],
          "name": "stdout"
        }
      ]
    },
    {
      "cell_type": "code",
      "metadata": {
        "id": "JbXZQauh1rxN"
      },
      "source": [
        " # Read in PUDs file as a geodataframe and initialize coordinate reference system (CRS)\n",
        "puds = gpd.read_file(root_path+'input/Planned_Unit_Development_(PUDs).shp', crs = {'init' :'epsg:4326'})\n",
        "aff = pd.read_csv(root_path+'input/Affordable_Housing.csv')\n",
        "crosswalk = pd.read_csv(root_path+'input/zoning_crosswalk.csv')"
      ],
      "execution_count": 4,
      "outputs": []
    },
    {
      "cell_type": "code",
      "metadata": {
        "colab": {
          "base_uri": "https://localhost:8080/",
          "height": 321
        },
        "id": "RfBV9reD2foE",
        "outputId": "c749d91f-fbe7-4b3e-b840-c86d733154f9"
      },
      "source": [
        "# Running this code grabs rows from the first 3 index places (4 rows total!)\n",
        "puds.sample(3)"
      ],
      "execution_count": 5,
      "outputs": [
        {
          "output_type": "execute_result",
          "data": {
            "text/html": [
              "<div>\n",
              "<style scoped>\n",
              "    .dataframe tbody tr th:only-of-type {\n",
              "        vertical-align: middle;\n",
              "    }\n",
              "\n",
              "    .dataframe tbody tr th {\n",
              "        vertical-align: top;\n",
              "    }\n",
              "\n",
              "    .dataframe thead th {\n",
              "        text-align: right;\n",
              "    }\n",
              "</style>\n",
              "<table border=\"1\" class=\"dataframe\">\n",
              "  <thead>\n",
              "    <tr style=\"text-align: right;\">\n",
              "      <th></th>\n",
              "      <th>OBJECTID</th>\n",
              "      <th>PUD_NAME</th>\n",
              "      <th>PUD_WEB_UR</th>\n",
              "      <th>PUD_CHANGE</th>\n",
              "      <th>PUD_ZONING</th>\n",
              "      <th>PUD_STATUS</th>\n",
              "      <th>PUD_CASE_N</th>\n",
              "      <th>GLOBALID</th>\n",
              "      <th>WARD</th>\n",
              "      <th>SHAPEAREA</th>\n",
              "      <th>SHAPELEN</th>\n",
              "      <th>geometry</th>\n",
              "    </tr>\n",
              "  </thead>\n",
              "  <tbody>\n",
              "    <tr>\n",
              "      <th>64</th>\n",
              "      <td>186135</td>\n",
              "      <td>Terrace Manor Redevelopment LP</td>\n",
              "      <td>https://app.dcoz.dc.gov/Content/Search/ViewCas...</td>\n",
              "      <td>Setdown 02/10/20</td>\n",
              "      <td>None</td>\n",
              "      <td>Pending</td>\n",
              "      <td>19-19</td>\n",
              "      <td>{D0B77E9D-1E3A-4CBC-8FBE-CE574830E3F1}</td>\n",
              "      <td>Ward 8</td>\n",
              "      <td>0</td>\n",
              "      <td>0</td>\n",
              "      <td>POLYGON ((-76.97211 38.84846, -76.97197 38.848...</td>\n",
              "    </tr>\n",
              "    <tr>\n",
              "      <th>153</th>\n",
              "      <td>186012</td>\n",
              "      <td>Florida &amp; Q Sreet LLC</td>\n",
              "      <td>https://app.dcoz.dc.gov/Content/Search/ViewCas...</td>\n",
              "      <td>Case # 06-04E 07/20/2016, Time Extension 06/15...</td>\n",
              "      <td>C-2-B</td>\n",
              "      <td>Final</td>\n",
              "      <td>06-04H</td>\n",
              "      <td>{556A1EFA-6D29-4A8C-9697-C6B5EC139E28}</td>\n",
              "      <td>Ward 5</td>\n",
              "      <td>0</td>\n",
              "      <td>0</td>\n",
              "      <td>POLYGON ((-77.00927 38.91137, -77.00931 38.911...</td>\n",
              "    </tr>\n",
              "    <tr>\n",
              "      <th>298</th>\n",
              "      <td>186073</td>\n",
              "      <td>3rd and M LLC, 3rd and K, LLC, and Park Inn As...</td>\n",
              "      <td>https://app.dcoz.dc.gov/Content/Search/ViewCas...</td>\n",
              "      <td>ZC 12-14, Time Extension to 04/27/2022, DC Reg...</td>\n",
              "      <td>R-5-D</td>\n",
              "      <td>Final</td>\n",
              "      <td>12-14C</td>\n",
              "      <td>{5CFB18F2-BE43-4AA0-A8A0-EA2AB2BE1750}</td>\n",
              "      <td>Ward 6</td>\n",
              "      <td>0</td>\n",
              "      <td>0</td>\n",
              "      <td>MULTIPOLYGON (((-77.01538 38.87775, -77.01538 ...</td>\n",
              "    </tr>\n",
              "  </tbody>\n",
              "</table>\n",
              "</div>"
            ],
            "text/plain": [
              "     OBJECTID  ...                                           geometry\n",
              "64     186135  ...  POLYGON ((-76.97211 38.84846, -76.97197 38.848...\n",
              "153    186012  ...  POLYGON ((-77.00927 38.91137, -77.00931 38.911...\n",
              "298    186073  ...  MULTIPOLYGON (((-77.01538 38.87775, -77.01538 ...\n",
              "\n",
              "[3 rows x 12 columns]"
            ]
          },
          "metadata": {
            "tags": []
          },
          "execution_count": 5
        }
      ]
    },
    {
      "cell_type": "code",
      "metadata": {
        "colab": {
          "base_uri": "https://localhost:8080/"
        },
        "id": "Rx6yI0mr8WQY",
        "outputId": "768d466e-83f3-40c5-8412-969dd610a2ac"
      },
      "source": [
        "# the summary of features in the Affordable housing\n",
        "aff.info()"
      ],
      "execution_count": 6,
      "outputs": [
        {
          "output_type": "stream",
          "text": [
            "<class 'pandas.core.frame.DataFrame'>\n",
            "RangeIndex: 558 entries, 0 to 557\n",
            "Data columns (total 22 columns):\n",
            " #   Column                         Non-Null Count  Dtype  \n",
            "---  ------                         --------------  -----  \n",
            " 0   X                              558 non-null    float64\n",
            " 1   Y                              558 non-null    float64\n",
            " 2   OBJECTID                       558 non-null    int64  \n",
            " 3   MAR_WARD                       558 non-null    object \n",
            " 4   ADDRESS                        555 non-null    object \n",
            " 5   PROJECT_NAME                   558 non-null    object \n",
            " 6   STATUS_PUBLIC                  558 non-null    object \n",
            " 7   AGENCY_CALCULATED              558 non-null    object \n",
            " 8   TOTAL_AFFORDABLE_UNITS         558 non-null    int64  \n",
            " 9   LATITUDE                       555 non-null    float64\n",
            " 10  LONGITUDE                      555 non-null    float64\n",
            " 11  AFFORDABLE_UNITS_AT_0_30_AMI   558 non-null    int64  \n",
            " 12  AFFORDABLE_UNITS_AT_31_50_AMI  558 non-null    int64  \n",
            " 13  AFFORDABLE_UNITS_AT_51_60_AMI  558 non-null    int64  \n",
            " 14  AFFORDABLE_UNITS_AT_61_80_AMI  558 non-null    int64  \n",
            " 15  AFFORDABLE_UNITS_AT_81_AMI     558 non-null    int64  \n",
            " 16  CASE_ID                        97 non-null     object \n",
            " 17  ADDRESS_ID                     489 non-null    float64\n",
            " 18  XCOORD                         558 non-null    float64\n",
            " 19  YCOORD                         558 non-null    float64\n",
            " 20  FULLADDRESS                    488 non-null    object \n",
            " 21  GIS_LAST_MOD_DTTM              558 non-null    object \n",
            "dtypes: float64(7), int64(7), object(8)\n",
            "memory usage: 96.0+ KB\n"
          ],
          "name": "stdout"
        }
      ]
    },
    {
      "cell_type": "code",
      "metadata": {
        "colab": {
          "base_uri": "https://localhost:8080/"
        },
        "id": "h4egJ10i9MNq",
        "outputId": "6bb9aa0e-2a5b-4596-de91-d7e297dbcd0e"
      },
      "source": [
        "# the summary of features in the PUD\n",
        "puds.info()"
      ],
      "execution_count": 7,
      "outputs": [
        {
          "output_type": "stream",
          "text": [
            "<class 'geopandas.geodataframe.GeoDataFrame'>\n",
            "RangeIndex: 302 entries, 0 to 301\n",
            "Data columns (total 12 columns):\n",
            " #   Column      Non-Null Count  Dtype   \n",
            "---  ------      --------------  -----   \n",
            " 0   OBJECTID    302 non-null    int64   \n",
            " 1   PUD_NAME    302 non-null    object  \n",
            " 2   PUD_WEB_UR  302 non-null    object  \n",
            " 3   PUD_CHANGE  300 non-null    object  \n",
            " 4   PUD_ZONING  302 non-null    object  \n",
            " 5   PUD_STATUS  302 non-null    object  \n",
            " 6   PUD_CASE_N  302 non-null    object  \n",
            " 7   GLOBALID    302 non-null    object  \n",
            " 8   WARD        301 non-null    object  \n",
            " 9   SHAPEAREA   302 non-null    int64   \n",
            " 10  SHAPELEN    302 non-null    int64   \n",
            " 11  geometry    302 non-null    geometry\n",
            "dtypes: geometry(1), int64(3), object(8)\n",
            "memory usage: 28.4+ KB\n"
          ],
          "name": "stdout"
        }
      ]
    },
    {
      "cell_type": "code",
      "metadata": {
        "colab": {
          "base_uri": "https://localhost:8080/"
        },
        "id": "_WxABoob9TaK",
        "outputId": "02f8b740-b579-41d0-f8b2-8359ff05cc03"
      },
      "source": [
        "# add a feature to the dataframe\n",
        "aff['geometry'] = aff.apply(lambda row: Point(row.X, row.Y), axis=1)\n",
        "aff = gpd.GeoDataFrame(aff, crs={'init':'epsg:4326'})"
      ],
      "execution_count": 9,
      "outputs": [
        {
          "output_type": "stream",
          "text": [
            "/usr/local/lib/python3.7/dist-packages/pyproj/crs/crs.py:53: FutureWarning: '+init=<authority>:<code>' syntax is deprecated. '<authority>:<code>' is the preferred initialization method. When making the change, be mindful of axis order changes: https://pyproj4.github.io/pyproj/stable/gotchas.html#axis-order-changes-in-proj-6\n",
            "  return _prepare_from_string(\" \".join(pjargs))\n"
          ],
          "name": "stderr"
        }
      ]
    },
    {
      "cell_type": "code",
      "metadata": {
        "colab": {
          "base_uri": "https://localhost:8080/",
          "height": 164
        },
        "id": "l02Ve50A-onQ",
        "outputId": "40aa3d64-ccfa-4849-8439-73cc050d750b"
      },
      "source": [
        "aff.sample(1) # sampling to the first index... or column headers and one row"
      ],
      "execution_count": 10,
      "outputs": [
        {
          "output_type": "execute_result",
          "data": {
            "text/html": [
              "<div>\n",
              "<style scoped>\n",
              "    .dataframe tbody tr th:only-of-type {\n",
              "        vertical-align: middle;\n",
              "    }\n",
              "\n",
              "    .dataframe tbody tr th {\n",
              "        vertical-align: top;\n",
              "    }\n",
              "\n",
              "    .dataframe thead th {\n",
              "        text-align: right;\n",
              "    }\n",
              "</style>\n",
              "<table border=\"1\" class=\"dataframe\">\n",
              "  <thead>\n",
              "    <tr style=\"text-align: right;\">\n",
              "      <th></th>\n",
              "      <th>X</th>\n",
              "      <th>Y</th>\n",
              "      <th>OBJECTID</th>\n",
              "      <th>MAR_WARD</th>\n",
              "      <th>ADDRESS</th>\n",
              "      <th>PROJECT_NAME</th>\n",
              "      <th>STATUS_PUBLIC</th>\n",
              "      <th>AGENCY_CALCULATED</th>\n",
              "      <th>TOTAL_AFFORDABLE_UNITS</th>\n",
              "      <th>LATITUDE</th>\n",
              "      <th>LONGITUDE</th>\n",
              "      <th>AFFORDABLE_UNITS_AT_0_30_AMI</th>\n",
              "      <th>AFFORDABLE_UNITS_AT_31_50_AMI</th>\n",
              "      <th>AFFORDABLE_UNITS_AT_51_60_AMI</th>\n",
              "      <th>AFFORDABLE_UNITS_AT_61_80_AMI</th>\n",
              "      <th>AFFORDABLE_UNITS_AT_81_AMI</th>\n",
              "      <th>CASE_ID</th>\n",
              "      <th>ADDRESS_ID</th>\n",
              "      <th>XCOORD</th>\n",
              "      <th>YCOORD</th>\n",
              "      <th>FULLADDRESS</th>\n",
              "      <th>GIS_LAST_MOD_DTTM</th>\n",
              "      <th>geometry</th>\n",
              "    </tr>\n",
              "  </thead>\n",
              "  <tbody>\n",
              "    <tr>\n",
              "      <th>166</th>\n",
              "      <td>-77.022785</td>\n",
              "      <td>38.933248</td>\n",
              "      <td>1401</td>\n",
              "      <td>Ward 1</td>\n",
              "      <td>625 Park Road Northwest, Washington, District ...</td>\n",
              "      <td>625 Park Rd NW</td>\n",
              "      <td>Completed 2015 to Date</td>\n",
              "      <td>DHCD</td>\n",
              "      <td>4</td>\n",
              "      <td>38.93324</td>\n",
              "      <td>-77.022783</td>\n",
              "      <td>0</td>\n",
              "      <td>2</td>\n",
              "      <td>0</td>\n",
              "      <td>2</td>\n",
              "      <td>0</td>\n",
              "      <td>NaN</td>\n",
              "      <td>228789.0</td>\n",
              "      <td>398024.65</td>\n",
              "      <td>140595.48</td>\n",
              "      <td>625 PARK ROAD NW</td>\n",
              "      <td>2021/04/26 04:01:10+00</td>\n",
              "      <td>POINT (-77.02279 38.93325)</td>\n",
              "    </tr>\n",
              "  </tbody>\n",
              "</table>\n",
              "</div>"
            ],
            "text/plain": [
              "             X          Y  ...       GIS_LAST_MOD_DTTM                    geometry\n",
              "166 -77.022785  38.933248  ...  2021/04/26 04:01:10+00  POINT (-77.02279 38.93325)\n",
              "\n",
              "[1 rows x 23 columns]"
            ]
          },
          "metadata": {
            "tags": []
          },
          "execution_count": 10
        }
      ]
    },
    {
      "cell_type": "code",
      "metadata": {
        "colab": {
          "base_uri": "https://localhost:8080/"
        },
        "id": "2vfic53N-yXe",
        "outputId": "70a2b4c8-0032-44e0-8c4e-d86f960030b6"
      },
      "source": [
        "# use geospatial join to identify which PUDs include affordable housing projects\n",
        "puds_aff = gpd.sjoin(puds, aff, op='intersects', how='left')"
      ],
      "execution_count": 11,
      "outputs": [
        {
          "output_type": "stream",
          "text": [
            "/usr/local/lib/python3.7/dist-packages/ipykernel_launcher.py:2: UserWarning: CRS mismatch between the CRS of left geometries and the CRS of right geometries.\n",
            "Use `to_crs()` to reproject one of the input geometries to match the CRS of the other.\n",
            "\n",
            "Left CRS: EPSG:4326\n",
            "Right CRS: +init=epsg:4326 +type=crs\n",
            "\n",
            "  \n"
          ],
          "name": "stderr"
        }
      ]
    },
    {
      "cell_type": "code",
      "metadata": {
        "colab": {
          "base_uri": "https://localhost:8080/"
        },
        "id": "iFcOEK1A_Ma0",
        "outputId": "6e10a4ce-9de1-482d-e385-5e5e377b7a51"
      },
      "source": [
        "# check the result of merge\n",
        "puds_aff.info()"
      ],
      "execution_count": 12,
      "outputs": [
        {
          "output_type": "stream",
          "text": [
            "<class 'geopandas.geodataframe.GeoDataFrame'>\n",
            "Int64Index: 310 entries, 0 to 301\n",
            "Data columns (total 35 columns):\n",
            " #   Column                         Non-Null Count  Dtype   \n",
            "---  ------                         --------------  -----   \n",
            " 0   OBJECTID_left                  310 non-null    int64   \n",
            " 1   PUD_NAME                       310 non-null    object  \n",
            " 2   PUD_WEB_UR                     310 non-null    object  \n",
            " 3   PUD_CHANGE                     308 non-null    object  \n",
            " 4   PUD_ZONING                     310 non-null    object  \n",
            " 5   PUD_STATUS                     310 non-null    object  \n",
            " 6   PUD_CASE_N                     310 non-null    object  \n",
            " 7   GLOBALID                       310 non-null    object  \n",
            " 8   WARD                           309 non-null    object  \n",
            " 9   SHAPEAREA                      310 non-null    int64   \n",
            " 10  SHAPELEN                       310 non-null    int64   \n",
            " 11  geometry                       310 non-null    geometry\n",
            " 12  index_right                    83 non-null     float64 \n",
            " 13  X                              83 non-null     float64 \n",
            " 14  Y                              83 non-null     float64 \n",
            " 15  OBJECTID_right                 83 non-null     float64 \n",
            " 16  MAR_WARD                       83 non-null     object  \n",
            " 17  ADDRESS                        83 non-null     object  \n",
            " 18  PROJECT_NAME                   83 non-null     object  \n",
            " 19  STATUS_PUBLIC                  83 non-null     object  \n",
            " 20  AGENCY_CALCULATED              83 non-null     object  \n",
            " 21  TOTAL_AFFORDABLE_UNITS         83 non-null     float64 \n",
            " 22  LATITUDE                       83 non-null     float64 \n",
            " 23  LONGITUDE                      83 non-null     float64 \n",
            " 24  AFFORDABLE_UNITS_AT_0_30_AMI   83 non-null     float64 \n",
            " 25  AFFORDABLE_UNITS_AT_31_50_AMI  83 non-null     float64 \n",
            " 26  AFFORDABLE_UNITS_AT_51_60_AMI  83 non-null     float64 \n",
            " 27  AFFORDABLE_UNITS_AT_61_80_AMI  83 non-null     float64 \n",
            " 28  AFFORDABLE_UNITS_AT_81_AMI     83 non-null     float64 \n",
            " 29  CASE_ID                        67 non-null     object  \n",
            " 30  ADDRESS_ID                     71 non-null     float64 \n",
            " 31  XCOORD                         83 non-null     float64 \n",
            " 32  YCOORD                         83 non-null     float64 \n",
            " 33  FULLADDRESS                    71 non-null     object  \n",
            " 34  GIS_LAST_MOD_DTTM              83 non-null     object  \n",
            "dtypes: float64(15), geometry(1), int64(3), object(16)\n",
            "memory usage: 87.2+ KB\n"
          ],
          "name": "stdout"
        }
      ]
    },
    {
      "cell_type": "code",
      "metadata": {
        "id": "apFmdn0A_nCw"
      },
      "source": [
        "# Merge dataframe with zoning categories crosswalk\n",
        "puds_info = puds_aff.merge(crosswalk[['Zone_Cat']], how='left', left_on='PUD_ZONING', right_on=crosswalk['Zone'])"
      ],
      "execution_count": 13,
      "outputs": []
    },
    {
      "cell_type": "code",
      "metadata": {
        "colab": {
          "base_uri": "https://localhost:8080/"
        },
        "id": "JDvi5Bum_xyg",
        "outputId": "e916e14c-87fd-4168-c2c0-e6563025d718"
      },
      "source": [
        "# Quick count using print statements to show us how many PUDs there are total, and how many offer affordable housing.\n",
        "\n",
        "print(f\"Total count of PUDs: {puds_info.shape[0]}\")\n",
        "print(f\"Count PUDs offering Affordable Housing: {puds_info.loc[~puds_info.PROJECT_NAME.isna()].shape[0]}\")"
      ],
      "execution_count": 14,
      "outputs": [
        {
          "output_type": "stream",
          "text": [
            "Total count of PUDs: 310\n",
            "Count PUDs offering Affordable Housing: 83\n"
          ],
          "name": "stdout"
        }
      ]
    },
    {
      "cell_type": "code",
      "metadata": {
        "colab": {
          "base_uri": "https://localhost:8080/",
          "height": 483
        },
        "id": "HTDYIf2jByc3",
        "outputId": "84eeb89b-2e52-451a-f39f-52228df36d7f"
      },
      "source": [
        "# Create a map of PUDs by Zoning Category\n",
        "puds_info.plot(column='Zone_Cat', legend=True, figsize=(16,8));"
      ],
      "execution_count": 15,
      "outputs": [
        {
          "output_type": "display_data",
          "data": {
            "image/png": "[encoded data removed]",
            "text/plain": [
              "<Figure size 1152x576 with 1 Axes>"
            ]
          },
          "metadata": {
            "tags": [],
            "needs_background": "light"
          }
        }
      ]
    },
    {
      "cell_type": "code",
      "metadata": {
        "colab": {
          "base_uri": "https://localhost:8080/",
          "height": 518
        },
        "id": "ejgJbtCRB1j7",
        "outputId": "7cb7641c-0b96-450a-b7d4-9581bf693391"
      },
      "source": [
        "# Create a map of just the PUDs that provide Affordable Housing\n",
        "puds_info[puds_info['TOTAL_AFFORDABLE_UNITS']>0].plot(column='TOTAL_AFFORDABLE_UNITS', color='grey', figsize=(16,8));"
      ],
      "execution_count": 16,
      "outputs": [
        {
          "output_type": "stream",
          "text": [
            "/usr/local/lib/python3.7/dist-packages/geopandas/plotting.py:642: UserWarning: Only specify one of 'column' or 'color'. Using 'color'.\n",
            "  \"Only specify one of 'column' or 'color'. Using 'color'.\", UserWarning\n"
          ],
          "name": "stderr"
        },
        {
          "output_type": "display_data",
          "data": {
            "image/png": "[encoded data removed]",
            "text/plain": [
              "<Figure size 1152x576 with 1 Axes>"
            ]
          },
          "metadata": {
            "tags": [],
            "needs_background": "light"
          }
        }
      ]
    },
    {
      "cell_type": "code",
      "metadata": {
        "colab": {
          "base_uri": "https://localhost:8080/"
        },
        "id": "vkS4dgIRCZbP",
        "outputId": "3be636d8-0d27-4626-bbd3-df3bad723002"
      },
      "source": [
        "# Export geodataframe as shapefile within Colab environment\n",
        "puds_info.to_file('puds_info.shp')\n",
        "\n",
        "# Copy shapefile components from Colab environment to Google Drive using bash script\n",
        "!cp puds_info.cpg 'gdrive/MyDrive/gis/output'\n",
        "!cp puds_info.dbf 'gdrive/MyDrive/gis/output'\n",
        "!cp puds_info.prj 'gdrive/MyDrive/gis/output'\n",
        "!cp puds_info.shp 'gdrive/MyDrive/gis/output'\n",
        "!cp puds_info.shx 'gdrive/MyDrive/gis/output'"
      ],
      "execution_count": 17,
      "outputs": [
        {
          "output_type": "stream",
          "text": [
            "/usr/local/lib/python3.7/dist-packages/ipykernel_launcher.py:2: UserWarning: Column names longer than 10 characters will be truncated when saved to ESRI Shapefile.\n",
            "  \n"
          ],
          "name": "stderr"
        }
      ]
    }
  ]
}
